{
 "cells": [
  {
   "cell_type": "markdown",
   "metadata": {},
   "source": [
    "## 練習時間\n",
    "#### 請寫一個函式用來計算 Mean Square Error\n",
    "$ MSE = \\frac{1}{n}\\sum_{i=1}^{n}{(Y_i - \\hat{Y}_i)^2} $\n",
    "\n",
    "### Hint: [如何取平方](https://googoodesign.gitbooks.io/-ezpython/unit-1.html)"
   ]
  },
  {
   "cell_type": "markdown",
   "metadata": {},
   "source": [
    "# [作業目標]\n",
    "- 仿造範例的MAE函數, 自己寫一個MSE函數(參考上面公式)"
   ]
  },
  {
   "cell_type": "markdown",
   "metadata": {},
   "source": [
    "# [作業重點]\n",
    "- 注意程式的縮排\n",
    "- 是否能將數學公式, 轉換為 Python 的函式組合? (In[2], Out[2])"
   ]
  },
  {
   "cell_type": "code",
   "execution_count": 1,
   "metadata": {},
   "outputs": [],
   "source": [
    "# 載入基礎套件與代稱\n",
    "import numpy as np\n",
    "import matplotlib.pyplot as plt\n",
    "import math"
   ]
  },
  {
   "cell_type": "code",
   "execution_count": 13,
   "metadata": {},
   "outputs": [
    {
     "data": {
      "image/png": "[encoded data removed]",
      "text/plain": [
       "<Figure size 432x288 with 1 Axes>"
      ]
     },
     "metadata": {
      "needs_background": "light"
     },
     "output_type": "display_data"
    }
   ],
   "source": [
    "#加入範例的函數取隨機變數\n",
    "# 與範例相同, 不另外解說\n",
    "w = 3\n",
    "b = 0.5\n",
    "x_lin = np.linspace(0, 100, 101)\n",
    "y = (x_lin + np.random.randn(101) * 5) * w + b\n",
    "y_hat = x_lin * w + b\n",
    "\n",
    "plt.plot(x_lin, y, 'b.', label = 'data points')\n",
    "plt.title(\"Assume we have data points\")\n",
    "plt.legend(loc = 2)\n",
    "plt.show()"
   ]
  },
  {
   "cell_type": "code",
   "execution_count": 4,
   "metadata": {},
   "outputs": [
    {
     "name": "stdout",
     "output_type": "stream",
     "text": [
      "The Mean absolute error is %.3f 11.886145279972187\n"
     ]
    }
   ],
   "source": [
    "# y = [11,20,19,17,10]\n",
    "# y_hat = [12,18,19.5,18,9]\n",
    "def mean_absolute_error(y, y_hat):\n",
    "    \"\"\"\n",
    "    計算 MAE\n",
    "    Args:\n",
    "        - y: 實際值\n",
    "        - yp: 預測值\n",
    "    Return:\n",
    "        - mae: MAE\n",
    "    \"\"\"\n",
    "    mae = MAE = sum(abs(y - y_hat)) / len(y)\n",
    "    return mae\n",
    "\n",
    "# # 定義 mean_squared_error 這個函數, 計算並傳回 MSE\n",
    "# def mean_squared_error(y, yp):\n",
    "#     \"\"\"\n",
    "#     請完成這個 Function 後往下執行\n",
    "#     \"\"\"\n",
    "#     mse = MSE = math.pow((y - yp), 2) / len(y)\n",
    "#     return mse\n",
    "\n",
    "\n",
    "MAE = mean_absolute_error(y, y_hat)\n",
    "\n",
    "print(\"The Mean absolute error is %.3f\" , MAE)\n"
   ]
  },
  {
   "cell_type": "code",
   "execution_count": null,
   "metadata": {},
   "outputs": [],
   "source": [
    "# 與範例相同, 不另外解說\n",
    "y_hat = x_lin * w + b\n",
    "plt.plot(x_lin, y, 'b.', label = 'data')\n",
    "plt.plot(x_lin, y_hat, 'r-', label = 'prediction')\n",
    "plt.title(\"Assume we have data points (And the prediction)\")\n",
    "plt.legend(loc = 2)\n",
    "plt.show()"
   ]
  },
  {
   "cell_type": "code",
   "execution_count": 30,
   "metadata": {},
   "outputs": [
    {
     "name": "stdout",
     "output_type": "stream",
     "text": [
      "0\n"
     ]
    }
   ],
   "source": [
    "#用來舉例MSE\n",
    "# y = [11,20,19,17,10]\n",
    "# y_hat = [12,18,19.5,18,9]\n",
    "# summation = 0\n",
    "# n = len(y) #finding total number of items in list\n",
    "\n",
    "# for i in range (0,n):  #looping through each element of the list\n",
    "#     difference = y[i] - y_hat[i]  #finding the difference between observed and predicted value\n",
    "#     squared_difference = difference**2  #taking square of the differene \n",
    "#     summation = summation + squared_difference  #taking a sum of all the differences\n",
    "#     MSE = summation/n  #dividing summation by total values to obtain average\n",
    "    \n",
    "# print(\"The Mean Square Error is: \" , MSE)\n",
    "\n",
    "#只能一維非list\n",
    "# 定義 mean_squared_error 這個函數, 計算並傳回 MSE\n",
    "\n",
    "w = 4\n",
    "b = 0.5\n",
    "x_lin = np.linspace(0, 20, 1000)\n",
    "y = (x_lin + np.random.randn(1000)*7 ) * w + b\n",
    "y_hat = x_lin * w + b\n",
    "def mean_squared_error(y, y_hat):\n",
    "    \"\"\"\n",
    "    請完成這個 Function 後往下執行\n",
    "    \"\"\"\n",
    "    mse = MSE = math.pow((y - y_hat), 2) / len(y)\n",
    "    return mse\n",
    "\n",
    "print(mse)"
   ]
  },
  {
   "cell_type": "code",
   "execution_count": null,
   "metadata": {},
   "outputs": [],
   "source": [
    "# 執行 Function, 確認有沒有正常執行\n",
    "# MSE = mean_squared_error(y, y_hat)\n",
    "MAE = mean_absolute_error(y, y_hat)\n",
    "# print(\"The Mean squared error is %.3f\" , MSE)\n",
    "print(\"The Mean absolute error is %.3f\" , MAE)"
   ]
  },
  {
   "cell_type": "markdown",
   "metadata": {},
   "source": [
    "# [作業2]\n",
    "\n",
    "請上 Kaggle, 在 Competitions 或 Dataset 中找一組競賽或資料並寫下：\n",
    "\n",
    "1. 你選的這組資料為何重要\n",
    "\n",
    "2. 資料從何而來 (tips: 譬如提供者是誰、以什麼方式蒐集)\n",
    "\n",
    "3. 蒐集而來的資料型態為何\n",
    "\n",
    "4. 這組資料想解決的問題如何評估\n",
    "\n",
    "# [作業3]\n",
    "\n",
    "想像你經營一個自由載客車隊，你希望能透過數據分析以提升業績，請你思考並描述你如何規劃整體的分析/解決方案：\n",
    "\n",
    "1. 核心問題為何 (tips：如何定義 「提升業績 & 你的假設」)\n",
    "\n",
    "2. 資料從何而來 (tips：哪些資料可能會對你想問的問題產生影響 & 資料如何蒐集)\n",
    "\n",
    "3. 蒐集而來的資料型態為何\n",
    "\n",
    "4. 你要回答的問題，其如何評估 (tips：你的假設如何驗證)"
   ]
  },
  {
   "cell_type": "markdown",
   "metadata": {},
   "source": [
    "# 作業2\n",
    "https://www.kaggle.com/c/quora-question-pairs\n",
    "1. 你選的這組資料為何重要\n",
    "這個dataset是要過濾掉Quora重複的問題, 對於網站管理跟提供使用者的效率十分重要\n",
    "\n",
    "2. 資料從何而來 (tips: 譬如提供者是誰、以什麼方式蒐集)\n",
    "提供者為全球大型問答網站Quora\n",
    "\n",
    "3. 蒐集而來的資料型態為何\n",
    "問題文字與判斷是否為重複問題的人工標記值(布林)\n",
    "\n",
    "4. 這組資料想解決的問題如何評估\n",
    "評估每個問題的向量, 利用兩個向量相減得問題間的相似度\n"
   ]
  },
  {
   "cell_type": "markdown",
   "metadata": {},
   "source": [
    "# 作業3：申論題目可直接將答案回覆在HW檔案裡面，Jupyter notebook可直接編輯文字。\n",
    "想像你經營一個自由載客車隊，你希望能透過數據分析以提升業績，請你思考並描述你如何規劃整體的分析/解決方案：\n",
    "1.\t核心問題為何 (tips：如何定義 「提升業績 & 你的假設」)\n",
    "核心問題:如何獲取最大的收益? 比如在一定時間內的空車輛最少\n",
    "提升業績: 業績簡單公式為單筆載客收入(平均)*載客量\n",
    "因此目標可先從提高載客量著手\n",
    "假設:在某些時段、地點需要配置更多車, 假日或特殊狀況(天氣)\n",
    "\n",
    "2.\t資料從何而來 (tips：哪些資料可能會對你想問的問題產生影響 & 資料如何蒐集)\n",
    "每台車與App可配計費器, 影響的變項(可收資料)如人次、單筆車費、行車距離、空車時間、顧客滿意度\n",
    "可收集一些環境資料如天氣、節日\n",
    "\n",
    "3.\t蒐集而來的資料型態為何\n",
    "人次費用大部分為數值,時間是文字, 顧客滿意度要看評分機制\n",
    "\n",
    "4. 你要回答的問題，其如何評估 (tips：你的假設如何驗證)\n",
    "人次為結果, 使用這些變項作迴歸\n"
   ]
  }
 ],
 "metadata": {
  "anaconda-cloud": {},
  "kernelspec": {
   "display_name": "Python 3",
   "language": "python",
   "name": "python3"
  },
  "language_info": {
   "codemirror_mode": {
    "name": "ipython",
    "version": 3
   },
   "file_extension": ".py",
   "mimetype": "text/x-python",
   "name": "python",
   "nbconvert_exporter": "python",
   "pygments_lexer": "ipython3",
   "version": "3.6.9"
  }
 },
 "nbformat": 4,
 "nbformat_minor": 1
}
